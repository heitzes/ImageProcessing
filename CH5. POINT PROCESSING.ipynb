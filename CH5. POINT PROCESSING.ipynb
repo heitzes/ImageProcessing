{
 "cells": [
  {
   "cell_type": "code",
   "execution_count": 101,
   "metadata": {},
   "outputs": [],
   "source": [
    "import cv2\n",
    "from PIL import Image\n",
    "import numpy as np\n",
    "from matplotlib import pyplot as plt"
   ]
  },
  {
   "cell_type": "markdown",
   "metadata": {},
   "source": [
    "### 128 더하거나 빼기"
   ]
  },
  {
   "cell_type": "code",
   "execution_count": 102,
   "metadata": {},
   "outputs": [],
   "source": [
    "img = cv2.imread(\"./rabbit.jpg\", cv2.IMREAD_GRAYSCALE)\n",
    "img1 = img + 128\n",
    "img2 = img - 128\n",
    "cv2.imshow(\"rabbit\", img)\n",
    "cv2.imshow(\"rabbit1\", img1)\n",
    "cv2.imshow(\"rabbit2\", img2)\n",
    "cv2.waitKey(0)\n",
    "cv2.destroyAllWindows()"
   ]
  },
  {
   "cell_type": "code",
   "execution_count": 103,
   "metadata": {
    "scrolled": true
   },
   "outputs": [
    {
     "data": {
      "text/plain": [
       "array([[ 75,  83,  77, ..., 154, 154, 154],\n",
       "       [ 77,  80,  74, ..., 152, 152, 152],\n",
       "       [ 83,  82,  77, ..., 147, 147, 147],\n",
       "       ...,\n",
       "       [194, 191, 201, ..., 205, 203, 199],\n",
       "       [194, 191, 201, ..., 205, 203, 199],\n",
       "       [194, 191, 201, ..., 205, 203, 199]], dtype=uint8)"
      ]
     },
     "execution_count": 103,
     "metadata": {},
     "output_type": "execute_result"
    }
   ],
   "source": [
    "img"
   ]
  },
  {
   "cell_type": "code",
   "execution_count": 104,
   "metadata": {
    "scrolled": true
   },
   "outputs": [
    {
     "data": {
      "text/plain": [
       "array([[203, 211, 205, ...,  26,  26,  26],\n",
       "       [205, 208, 202, ...,  24,  24,  24],\n",
       "       [211, 210, 205, ...,  19,  19,  19],\n",
       "       ...,\n",
       "       [ 66,  63,  73, ...,  77,  75,  71],\n",
       "       [ 66,  63,  73, ...,  77,  75,  71],\n",
       "       [ 66,  63,  73, ...,  77,  75,  71]], dtype=uint8)"
      ]
     },
     "execution_count": 104,
     "metadata": {},
     "output_type": "execute_result"
    }
   ],
   "source": [
    "img2"
   ]
  },
  {
   "cell_type": "code",
   "execution_count": 105,
   "metadata": {},
   "outputs": [
    {
     "data": {
      "text/plain": [
       "array([[203, 211, 205, ...,  26,  26,  26],\n",
       "       [205, 208, 202, ...,  24,  24,  24],\n",
       "       [211, 210, 205, ...,  19,  19,  19],\n",
       "       ...,\n",
       "       [ 66,  63,  73, ...,  77,  75,  71],\n",
       "       [ 66,  63,  73, ...,  77,  75,  71],\n",
       "       [ 66,  63,  73, ...,  77,  75,  71]], dtype=uint8)"
      ]
     },
     "execution_count": 105,
     "metadata": {},
     "output_type": "execute_result"
    }
   ],
   "source": [
    "img1"
   ]
  },
  {
   "cell_type": "markdown",
   "metadata": {},
   "source": [
    "75 + 128 = 203\n",
    "\n",
    "75 - 128 + 256 = 203\n",
    "\n",
    "똑같은 결과"
   ]
  },
  {
   "cell_type": "markdown",
   "metadata": {},
   "source": [
    "이 문제를 해결하기위해 상한선과 하한선을 설정하였다"
   ]
  },
  {
   "cell_type": "code",
   "execution_count": 106,
   "metadata": {},
   "outputs": [],
   "source": [
    "alist1 = []\n",
    "for i in img:\n",
    "    for k in i:\n",
    "        if k+128>255:\n",
    "            alist1.append(255)\n",
    "        else:\n",
    "            alist1.append(k+128)"
   ]
  },
  {
   "cell_type": "code",
   "execution_count": 107,
   "metadata": {},
   "outputs": [],
   "source": [
    "alist2 = []\n",
    "for i in img:\n",
    "    for k in i:\n",
    "        if k-128<0:\n",
    "            alist2.append(0)\n",
    "        else:\n",
    "            alist2.append(k-128)"
   ]
  },
  {
   "cell_type": "code",
   "execution_count": 108,
   "metadata": {},
   "outputs": [],
   "source": [
    "img1 = np.uint8(np.reshape(alist1, (467,467)))\n",
    "img2 = np.uint8(np.reshape(alist2, (467,467)))"
   ]
  },
  {
   "cell_type": "code",
   "execution_count": 109,
   "metadata": {},
   "outputs": [],
   "source": [
    "cv2.imshow(\"rabbit\", img)\n",
    "cv2.imshow(\"rabbit1\", img1)\n",
    "cv2.imshow(\"rabbit2\", img2)\n",
    "cv2.waitKey(0)\n",
    "cv2.destroyAllWindows()"
   ]
  },
  {
   "cell_type": "markdown",
   "metadata": {},
   "source": [
    "### 픽셀 값을 2배, 1/2배 해보기"
   ]
  },
  {
   "cell_type": "code",
   "execution_count": 110,
   "metadata": {},
   "outputs": [],
   "source": [
    "img1 = img/2\n",
    "img2 = img*2\n",
    "cv2.imshow(\"rabbit\", img)\n",
    "# uint8로 전환해야 나옴\n",
    "cv2.imshow(\"rabbit1\", np.uint8(img1))\n",
    "cv2.imshow(\"rabbit2\", np.uint8(img2))\n",
    "cv2.waitKey(0)\n",
    "cv2.destroyAllWindows()"
   ]
  },
  {
   "cell_type": "code",
   "execution_count": 111,
   "metadata": {},
   "outputs": [
    {
     "data": {
      "text/plain": [
       "array([[ 75,  83,  77, ..., 154, 154, 154],\n",
       "       [ 77,  80,  74, ..., 152, 152, 152],\n",
       "       [ 83,  82,  77, ..., 147, 147, 147],\n",
       "       ...,\n",
       "       [194, 191, 201, ..., 205, 203, 199],\n",
       "       [194, 191, 201, ..., 205, 203, 199],\n",
       "       [194, 191, 201, ..., 205, 203, 199]], dtype=uint8)"
      ]
     },
     "execution_count": 111,
     "metadata": {},
     "output_type": "execute_result"
    }
   ],
   "source": [
    "img"
   ]
  },
  {
   "cell_type": "code",
   "execution_count": 112,
   "metadata": {},
   "outputs": [
    {
     "data": {
      "text/plain": [
       "array([[ 37.5,  41.5,  38.5, ...,  77. ,  77. ,  77. ],\n",
       "       [ 38.5,  40. ,  37. , ...,  76. ,  76. ,  76. ],\n",
       "       [ 41.5,  41. ,  38.5, ...,  73.5,  73.5,  73.5],\n",
       "       ...,\n",
       "       [ 97. ,  95.5, 100.5, ..., 102.5, 101.5,  99.5],\n",
       "       [ 97. ,  95.5, 100.5, ..., 102.5, 101.5,  99.5],\n",
       "       [ 97. ,  95.5, 100.5, ..., 102.5, 101.5,  99.5]])"
      ]
     },
     "execution_count": 112,
     "metadata": {},
     "output_type": "execute_result"
    }
   ],
   "source": [
    "img1"
   ]
  },
  {
   "cell_type": "code",
   "execution_count": 113,
   "metadata": {},
   "outputs": [
    {
     "data": {
      "text/plain": [
       "array([[150, 166, 154, ...,  52,  52,  52],\n",
       "       [154, 160, 148, ...,  48,  48,  48],\n",
       "       [166, 164, 154, ...,  38,  38,  38],\n",
       "       ...,\n",
       "       [132, 126, 146, ..., 154, 150, 142],\n",
       "       [132, 126, 146, ..., 154, 150, 142],\n",
       "       [132, 126, 146, ..., 154, 150, 142]], dtype=uint8)"
      ]
     },
     "execution_count": 113,
     "metadata": {},
     "output_type": "execute_result"
    }
   ],
   "source": [
    "img2"
   ]
  },
  {
   "cell_type": "markdown",
   "metadata": {},
   "source": [
    "2배 했을 때 아까처럼 255를 넘어가면 알아서 연산을 해버리는 문제가 생김"
   ]
  },
  {
   "cell_type": "code",
   "execution_count": 114,
   "metadata": {},
   "outputs": [],
   "source": [
    "alist2 = []\n",
    "for i in img:\n",
    "    for k in i:\n",
    "        if k*2>255:\n",
    "            alist2.append(255)\n",
    "        else:\n",
    "            alist2.append(k*2)\n",
    "img2 = np.uint8(np.reshape(alist2, (467,467)))"
   ]
  },
  {
   "cell_type": "code",
   "execution_count": 115,
   "metadata": {},
   "outputs": [],
   "source": [
    "cv2.imshow(\"rabbit\", img)\n",
    "cv2.imshow(\"rabbit1\", np.uint8(img1))\n",
    "cv2.imshow(\"rabbit2\", np.uint8(img2))\n",
    "cv2.waitKey(0)\n",
    "cv2.destroyAllWindows()"
   ]
  },
  {
   "cell_type": "markdown",
   "metadata": {},
   "source": [
    "### Complement"
   ]
  },
  {
   "cell_type": "markdown",
   "metadata": {},
   "source": [
    "전체를 뒤집기"
   ]
  },
  {
   "cell_type": "code",
   "execution_count": 116,
   "metadata": {},
   "outputs": [],
   "source": [
    "img1 = 255 - img\n",
    "cv2.imshow(\"rabbit\", img)\n",
    "# uint8로 전환해야 나옴\n",
    "cv2.imshow(\"rabbit1\", np.uint8(img1))\n",
    "cv2.waitKey(0)\n",
    "cv2.destroyAllWindows()"
   ]
  },
  {
   "cell_type": "markdown",
   "metadata": {},
   "source": [
    "어두운 픽셀만 뒤집기"
   ]
  },
  {
   "cell_type": "code",
   "execution_count": 117,
   "metadata": {},
   "outputs": [],
   "source": [
    "alist2 = []\n",
    "for i in img:\n",
    "    for k in i:\n",
    "        if k<128:\n",
    "            alist2.append(255-k)\n",
    "        else:\n",
    "            alist2.append(k)\n",
    "img2 = np.uint8(np.reshape(alist2, (467,467)))\n",
    "cv2.imshow(\"rabbit\", img)\n",
    "# uint8로 전환해야 나옴\n",
    "cv2.imshow(\"rabbit1\", np.uint8(img2))\n",
    "cv2.waitKey(0)\n",
    "cv2.destroyAllWindows()"
   ]
  },
  {
   "cell_type": "markdown",
   "metadata": {},
   "source": [
    "밝은 픽셀만 뒤집기"
   ]
  },
  {
   "cell_type": "code",
   "execution_count": 118,
   "metadata": {},
   "outputs": [],
   "source": [
    "alist1 = []\n",
    "for i in img:\n",
    "    for k in i:\n",
    "        if k>128:\n",
    "            alist1.append(255-k)\n",
    "        else:\n",
    "            alist1.append(k)\n",
    "img1 = np.uint8(np.reshape(alist1, (467,467)))\n",
    "cv2.imshow(\"rabbit\", img)\n",
    "# uint8로 전환해야 나옴\n",
    "cv2.imshow(\"rabbit1\", np.uint8(img1))\n",
    "cv2.waitKey(0)\n",
    "cv2.destroyAllWindows()"
   ]
  },
  {
   "cell_type": "markdown",
   "metadata": {},
   "source": [
    "### 히스토그램"
   ]
  },
  {
   "cell_type": "code",
   "execution_count": 119,
   "metadata": {},
   "outputs": [
    {
     "data": {
      "image/png": "[encoded data removed]",
      "text/plain": [
       "<Figure size 432x288 with 1 Axes>"
      ]
     },
     "metadata": {
      "needs_background": "light"
     },
     "output_type": "display_data"
    }
   ],
   "source": [
    "img = cv2.imread(\"./boy.jpg\",0)\n",
    "plt.hist(img.ravel(), 256, [0,256])\n",
    "plt.show()"
   ]
  },
  {
   "cell_type": "code",
   "execution_count": 120,
   "metadata": {},
   "outputs": [],
   "source": [
    "cv2.imshow(\"boy\", np.uint8(img))\n",
    "cv2.waitKey(0)\n",
    "cv2.destroyAllWindows()"
   ]
  },
  {
   "cell_type": "code",
   "execution_count": 167,
   "metadata": {},
   "outputs": [
    {
     "data": {
      "text/plain": [
       "(552, 454)"
      ]
     },
     "execution_count": 167,
     "metadata": {},
     "output_type": "execute_result"
    }
   ],
   "source": [
    "img.shape"
   ]
  },
  {
   "cell_type": "code",
   "execution_count": 121,
   "metadata": {},
   "outputs": [],
   "source": [
    "alist1 = []\n",
    "for i in img:\n",
    "    for k in i:\n",
    "        alist1.append(k//16)\n",
    "img1 = np.uint8(np.reshape(alist1, (552,454)))"
   ]
  },
  {
   "cell_type": "code",
   "execution_count": 122,
   "metadata": {},
   "outputs": [
    {
     "data": {
      "image/png": "[encoded data removed]",
      "text/plain": [
       "<Figure size 432x288 with 1 Axes>"
      ]
     },
     "metadata": {
      "needs_background": "light"
     },
     "output_type": "display_data"
    }
   ],
   "source": [
    "plt.hist(img1.ravel(), 15, [0,15], rwidth=0.3)\n",
    "plt.show()"
   ]
  },
  {
   "cell_type": "markdown",
   "metadata": {},
   "source": [
    "5에서 9에 몰려있으므로 고르게 분포하도록 바꿔보자(평활화)\n",
    "\n",
    "cumsum을 사용하여 누적합을 구하고 누적합의 최대값, 최소값을 이용하여 히스토그램이 넓게 분포되도록 만들어해주는 룩업 테이블( look-up table)을 만든다"
   ]
  },
  {
   "cell_type": "code",
   "execution_count": 123,
   "metadata": {},
   "outputs": [],
   "source": [
    "#equ = cv.equalizeHist(gray)로 한번에 할 수도 있다.\n",
    "hist, bin = np.histogram(img.flatten(), 256, [0, 256])\n",
    "cdf = hist.cumsum()\n",
    "cdf_mask = np.ma.masked_equal(cdf,0)\n",
    "cdf_mask = (cdf_mask - cdf_mask.min())*255/(cdf_mask.max()-cdf_mask.min())\n",
    "cdf = np.ma.filled(cdf_mask,0).astype('uint8')\n",
    "equ = cdf[img]"
   ]
  },
  {
   "cell_type": "code",
   "execution_count": 124,
   "metadata": {
    "scrolled": true
   },
   "outputs": [
    {
     "data": {
      "image/png": "[encoded data removed]",
      "text/plain": [
       "<Figure size 432x288 with 1 Axes>"
      ]
     },
     "metadata": {
      "needs_background": "light"
     },
     "output_type": "display_data"
    }
   ],
   "source": [
    "plt.hist(equ.ravel(), 15, [0,15], rwidth=0.3)\n",
    "plt.show()"
   ]
  },
  {
   "cell_type": "code",
   "execution_count": 125,
   "metadata": {},
   "outputs": [],
   "source": [
    "cv2.imshow(\"boy\", np.uint8(img))\n",
    "cv2.imshow(\"boy1\", np.uint8(equ))\n",
    "cv2.waitKey(0)\n",
    "cv2.destroyAllWindows()"
   ]
  },
  {
   "cell_type": "markdown",
   "metadata": {},
   "source": [
    "### Threshold"
   ]
  },
  {
   "cell_type": "code",
   "execution_count": 126,
   "metadata": {},
   "outputs": [],
   "source": [
    "img = cv2.imread(\"./rice.jpg\", cv2.IMREAD_GRAYSCALE)\n",
    "img1 = img>110\n",
    "# double형으로 바꿔줘야한다!\n",
    "img1 = np.double(img1)"
   ]
  },
  {
   "cell_type": "code",
   "execution_count": 127,
   "metadata": {},
   "outputs": [],
   "source": [
    "cv2.imshow(\"rice\", img)\n",
    "cv2.imshow(\"rice1\", img1)\n",
    "cv2.waitKey(0)\n",
    "cv2.destroyAllWindows()"
   ]
  },
  {
   "cell_type": "markdown",
   "metadata": {},
   "source": [
    "double threshold"
   ]
  },
  {
   "cell_type": "code",
   "execution_count": 128,
   "metadata": {},
   "outputs": [],
   "source": [
    "img = cv2.imread(\"./rabbit.jpg\", cv2.IMREAD_GRAYSCALE)\n",
    "img1 = 110<img\n",
    "img1 = img<200\n",
    "# double형으로 바꿔줘야한다!\n",
    "img1 = np.double(img1)"
   ]
  },
  {
   "cell_type": "code",
   "execution_count": 129,
   "metadata": {},
   "outputs": [],
   "source": [
    "cv2.imshow(\"rabbit\", img)\n",
    "cv2.imshow(\"rabbit1\", img1)\n",
    "cv2.waitKey(0)\n",
    "cv2.destroyAllWindows()"
   ]
  },
  {
   "cell_type": "code",
   "execution_count": 130,
   "metadata": {},
   "outputs": [],
   "source": [
    "#88이면 100으로 할 때 보다 배경의 까만 점을 더 잘 없앨 수 있는데 글자가 덜 또렷해짐\n",
    "\n",
    "img = cv2.imread(\"./word.jpg\", cv2.IMREAD_GRAYSCALE)\n",
    "img1 = img>88\n",
    "# double형으로 바꿔줘야한다!\n",
    "img1 = np.double(img1)"
   ]
  },
  {
   "cell_type": "code",
   "execution_count": 131,
   "metadata": {},
   "outputs": [],
   "source": [
    "cv2.imshow(\"word\", img)\n",
    "cv2.imshow(\"word1\", img1)\n",
    "cv2.waitKey(0)\n",
    "cv2.destroyAllWindows()"
   ]
  },
  {
   "cell_type": "code",
   "execution_count": null,
   "metadata": {},
   "outputs": [],
   "source": []
  }
 ],
 "metadata": {
  "kernelspec": {
   "display_name": "Python 3",
   "language": "python",
   "name": "python3"
  },
  "language_info": {
   "codemirror_mode": {
    "name": "ipython",
    "version": 3
   },
   "file_extension": ".py",
   "mimetype": "text/x-python",
   "name": "python",
   "nbconvert_exporter": "python",
   "pygments_lexer": "ipython3",
   "version": "3.7.6"
  }
 },
 "nbformat": 4,
 "nbformat_minor": 4
}
