{
 "cells": [
  {
   "cell_type": "code",
   "execution_count": 89,
   "metadata": {},
   "outputs": [],
   "source": [
    "import cv2\n",
    "from PIL import Image"
   ]
  },
  {
   "cell_type": "markdown",
   "metadata": {},
   "source": [
    "## 이미지 불러오고 띄우기"
   ]
  },
  {
   "cell_type": "code",
   "execution_count": 146,
   "metadata": {},
   "outputs": [],
   "source": [
    "img = cv2.imread(\"./rabbit.jpg\")"
   ]
  },
  {
   "cell_type": "code",
   "execution_count": 145,
   "metadata": {},
   "outputs": [],
   "source": [
    "cv2.imshow(\"rabbit\", img)\n",
    "cv2.waitKey(0)\n",
    "cv2.destroyAllWindows()"
   ]
  },
  {
   "cell_type": "code",
   "execution_count": 90,
   "metadata": {},
   "outputs": [
    {
     "data": {
      "text/plain": [
       "(467, 467, 3)"
      ]
     },
     "execution_count": 90,
     "metadata": {},
     "output_type": "execute_result"
    }
   ],
   "source": [
    "img.shape"
   ]
  },
  {
   "cell_type": "code",
   "execution_count": 62,
   "metadata": {},
   "outputs": [
    {
     "data": {
      "text/plain": [
       "array([ 94, 154, 196], dtype=uint8)"
      ]
     },
     "execution_count": 62,
     "metadata": {},
     "output_type": "execute_result"
    }
   ],
   "source": [
    "# 파이썬에서 픽셀값은 bgr 순서라고 한다\n",
    "img[200,200]"
   ]
  },
  {
   "cell_type": "code",
   "execution_count": 68,
   "metadata": {},
   "outputs": [
    {
     "data": {
      "text/plain": [
       "196"
      ]
     },
     "execution_count": 68,
     "metadata": {},
     "output_type": "execute_result"
    }
   ],
   "source": [
    "# 픽셀의 red 값\n",
    "img[200,200,2]"
   ]
  },
  {
   "cell_type": "code",
   "execution_count": 61,
   "metadata": {},
   "outputs": [
    {
     "data": {
      "text/plain": [
       "array([ 94, 154, 196], dtype=uint8)"
      ]
     },
     "execution_count": 61,
     "metadata": {},
     "output_type": "execute_result"
    }
   ],
   "source": [
    "# 픽셀의 bgr 값\n",
    "img[200,200,:]"
   ]
  },
  {
   "cell_type": "code",
   "execution_count": 64,
   "metadata": {},
   "outputs": [
    {
     "data": {
      "text/plain": [
       "160"
      ]
     },
     "execution_count": 64,
     "metadata": {},
     "output_type": "execute_result"
    }
   ],
   "source": [
    "# grey scale에서는 픽셀값이 하나임\n",
    "grey_img[200,200]"
   ]
  },
  {
   "cell_type": "markdown",
   "metadata": {},
   "source": [
    "## PIL 모듈을 이용한 이미지 정보 가져오기"
   ]
  },
  {
   "cell_type": "code",
   "execution_count": 87,
   "metadata": {},
   "outputs": [
    {
     "name": "stdout",
     "output_type": "stream",
     "text": [
      "Filename :  rabbit.jpg\n",
      "Format :  JPEG\n",
      "Mode :  RGB\n",
      "Size :  (467, 467)\n",
      "Width :  467\n",
      "Height :  467\n",
      "Image Palette :  None\n",
      "Image Info :  {'jfif': 257, 'jfif_version': (1, 1), 'dpi': (0, 0), 'jfif_unit': 1, 'jfif_density': (0, 0), 'exif': b'Exif\\x00\\x00MM\\x00*\\x00\\x00\\x00\\x08\\x00\\x01\\x87i\\x00\\x04\\x00\\x00\\x00\\x01\\x00\\x00\\x00\\x1a\\x00\\x00\\x00\\x00\\x00\\x02@\\x00\\x00\\x03\\x00\\x00\\x00\\x01\\x00\\x00\\x00\\x00@\\x01\\x00\\x01\\x00\\x00\\x00\\x01\\x00\\x00\\x00\\x00\\x00\\x00\\x00\\x00\\x00\\x00'}\n"
     ]
    }
   ],
   "source": [
    "# 이미지 정보 가져오기\n",
    "\n",
    "# Opening Image as an object\n",
    "Img = Image.open(\"rabbit.jpg\")\n",
    "# Getting the filename of image\n",
    "print(\"Filename : \",Img.filename)\n",
    "# Getting the format of image\n",
    "print(\"Format : \",Img.format)\n",
    "# Getting the mode of image\n",
    "print(\"Mode : \",Img.mode)\n",
    "# Getting the size of image\n",
    "print(\"Size : \",Img.size)\n",
    "# Getting only the width of image\n",
    "print(\"Width : \",Img.width)\n",
    "# Getting only the height of image\n",
    "print(\"Height : \",Img.height)\n",
    "# Getting the color palette of image\n",
    "print(\"Image Palette : \",Img.palette)\n",
    "# Getting the info about image\n",
    "print(\"Image Info : \",Img.info)\n",
    "# Closing Image object\n",
    "Img.close()"
   ]
  },
  {
   "cell_type": "markdown",
   "metadata": {},
   "source": [
    "## 색상 scale 바꾸기"
   ]
  },
  {
   "cell_type": "code",
   "execution_count": 93,
   "metadata": {},
   "outputs": [],
   "source": [
    "# rgb to grey\n",
    "img = cv2.imread(\"./rabbit.jpg\")\n",
    "grey = cv2.cvtColor(img, cv2.COLOR_BGR2GRAY)\n",
    "grey_img = cv2.imread(\"./rabbit.jpg\", cv2.IMREAD_GRAYSCALE)"
   ]
  },
  {
   "cell_type": "code",
   "execution_count": 95,
   "metadata": {},
   "outputs": [],
   "source": [
    "cv2.imshow(\"rabbit1\", img)\n",
    "cv2.imshow(\"rabbit2\", grey)\n",
    "cv2.waitKey(0)\n",
    "cv2.destroyAllWindows()"
   ]
  },
  {
   "cell_type": "code",
   "execution_count": 101,
   "metadata": {},
   "outputs": [
    {
     "data": {
      "text/plain": [
       "((467, 467), 160)"
      ]
     },
     "execution_count": 101,
     "metadata": {},
     "output_type": "execute_result"
    }
   ],
   "source": [
    "grey_img.shape, grey_img[200,200]"
   ]
  },
  {
   "cell_type": "code",
   "execution_count": 102,
   "metadata": {},
   "outputs": [
    {
     "data": {
      "text/plain": [
       "((467, 467), 160)"
      ]
     },
     "execution_count": 102,
     "metadata": {},
     "output_type": "execute_result"
    }
   ],
   "source": [
    "grey.shape, grey[200,200]"
   ]
  },
  {
   "cell_type": "code",
   "execution_count": 141,
   "metadata": {},
   "outputs": [],
   "source": [
    "# grey to rgb\n",
    "color = cv2.cvtColor(grey, cv2.COLOR_GRAY2BGR)"
   ]
  },
  {
   "cell_type": "code",
   "execution_count": 112,
   "metadata": {},
   "outputs": [],
   "source": [
    "cv2.imshow(\"rabbit1\", img)\n",
    "cv2.imshow(\"rabbit2\", grey)\n",
    "cv2.imshow(\"rabbit3\", color)\n",
    "cv2.waitKey(0)\n",
    "cv2.destroyAllWindows()"
   ]
  },
  {
   "cell_type": "code",
   "execution_count": 113,
   "metadata": {},
   "outputs": [
    {
     "data": {
      "text/plain": [
       "((467, 467, 3), array([160, 160, 160], dtype=uint8))"
      ]
     },
     "execution_count": 113,
     "metadata": {},
     "output_type": "execute_result"
    }
   ],
   "source": [
    "# 1d에서 3d로 늘어났지만 픽셀값만 복사한것임\n",
    "color.shape, color[200,200]"
   ]
  },
  {
   "cell_type": "markdown",
   "metadata": {},
   "source": [
    "### Q. indexed된 이미지 픽셀값은 어떻게 구하지? 혹은 어떻게 만들지? opencv에는 rgb2ind 함수 없는거같은데\n",
    "> 구글링 결과;  \n",
    "You will have to make your own. I can reccomend using HSV instead of RGB (you can convert RGB to HSV with opencv). \n",
    "    Once the image is converted, you can then simply use 29 ranges for the H value.\n",
    "\n",
    "\n",
    "> hue(색상) 값이 같고 sv값이 유사한 픽셀들을 하나의 rgb 값으로 mapping 하라는건가....?"
   ]
  },
  {
   "cell_type": "code",
   "execution_count": 108,
   "metadata": {},
   "outputs": [],
   "source": [
    "pre_ind = cv2.cvtColor(img, cv2.COLOR_BGR2HSV)"
   ]
  },
  {
   "cell_type": "code",
   "execution_count": 116,
   "metadata": {},
   "outputs": [],
   "source": [
    "cv2.imshow(\"rabbit1\", img)\n",
    "cv2.imshow(\"rabbit2\", pre_ind)\n",
    "cv2.waitKey(0)\n",
    "cv2.destroyAllWindows()"
   ]
  },
  {
   "cell_type": "code",
   "execution_count": 110,
   "metadata": {},
   "outputs": [
    {
     "data": {
      "text/plain": [
       "((467, 467, 3), array([ 18, 133, 196], dtype=uint8))"
      ]
     },
     "execution_count": 110,
     "metadata": {},
     "output_type": "execute_result"
    }
   ],
   "source": [
    "pre_ind.shape, pre_ind[200,200]"
   ]
  },
  {
   "cell_type": "code",
   "execution_count": 123,
   "metadata": {},
   "outputs": [],
   "source": [
    "h_values = list(pre_ind[:,:,0])[0]"
   ]
  },
  {
   "cell_type": "code",
   "execution_count": 142,
   "metadata": {
    "scrolled": true
   },
   "outputs": [
    {
     "data": {
      "text/plain": [
       "(34, 56)"
      ]
     },
     "execution_count": 142,
     "metadata": {},
     "output_type": "execute_result"
    }
   ],
   "source": [
    "# 색상값 범위가 작다\n",
    "min(h_values), max(h_values)"
   ]
  },
  {
   "cell_type": "code",
   "execution_count": 135,
   "metadata": {
    "scrolled": true
   },
   "outputs": [
    {
     "name": "stdout",
     "output_type": "stream",
     "text": [
      "[ 35  33 234]\n",
      "[ 35  25 234]\n",
      "[ 35  21 236]\n",
      "[ 35  20 237]\n",
      "[ 35  20 237]\n"
     ]
    }
   ],
   "source": [
    "for i in pre_ind[0]:\n",
    "    if i[0] == 35:\n",
    "        print(i)"
   ]
  }
 ],
 "metadata": {
  "kernelspec": {
   "display_name": "Python 3",
   "language": "python",
   "name": "python3"
  },
  "language_info": {
   "codemirror_mode": {
    "name": "ipython",
    "version": 3
   },
   "file_extension": ".py",
   "mimetype": "text/x-python",
   "name": "python",
   "nbconvert_exporter": "python",
   "pygments_lexer": "ipython3",
   "version": "3.7.6"
  }
 },
 "nbformat": 4,
 "nbformat_minor": 4
}
