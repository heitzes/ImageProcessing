{
 "cells": [
  {
   "cell_type": "code",
   "execution_count": 2,
   "metadata": {},
   "outputs": [],
   "source": [
    "import numpy as np\n",
    "import math\n",
    "import cv2 as cv"
   ]
  },
  {
   "cell_type": "markdown",
   "metadata": {},
   "source": [
    "hough transform이 어떤건지 유튜브보고 겨우 이해한것 같은데 코드로는 못하겠다..."
   ]
  },
  {
   "cell_type": "markdown",
   "metadata": {},
   "source": [
    "x,y 축의 각 점에서 360도씩 회전하면서 직선을 그린다.</br>\n",
    "<br>한 점에서 그려진 모든 직선들은 hough 공간에서 sin과 cos이 결합된 곡선 그래프로 그려진다.</br>\n",
    "<br>각 점들에서 이렇게 직선들을 만들고, 이를 hough 공간에 그린다.</br>\n",
    "<br>hough 공간에서 곡선 그래프들이 겹쳐지는 점의 r과 theta를 이용해 cartesian 공간에 직선을 그리면 점들을 잇는 직선이다\n",
    "\n",
    "궁금한것: \"점\"의 기준이 무엇인가... binary한 이미지에서는 점이 검은 점을 의미해서 검은선을 detect할 수 있을 것 같은데 그게 아닌 경우에서는...? rgb나 gray에서는 모든 픽셀들이 점 취급되면 다 이어져서 line detect가 안될것 같은데?"
   ]
  },
  {
   "cell_type": "code",
   "execution_count": 6,
   "metadata": {},
   "outputs": [],
   "source": [
    "import cv2 as cv\n",
    "import numpy as np\n",
    "\n",
    "img = cv.imread('./cam.jpg')\n",
    "gray = cv.cvtColor(img,cv.COLOR_BGR2GRAY)\n",
    "edges = cv.Canny(gray,50,150)\n",
    "lines = cv.HoughLines(edges,1,np.pi/180,200)\n",
    "\n",
    "for line in lines:\n",
    "    rho,theta = line[0]\n",
    "    a = np.cos(theta)\n",
    "    b = np.sin(theta)\n",
    "    x0 = a*rho\n",
    "    y0 = b*rho\n",
    "    x1 = int(x0 + 1000*(-b))\n",
    "    y1 = int(y0 + 1000*(a))\n",
    "    x2 = int(x0 - 1000*(-b))\n",
    "    y2 = int(y0 - 1000*(a))\n",
    "    cv.line(img,(x1,y1),(x2,y2),(0,0,255),2)\n",
    "\n",
    "cv.imshow(\"result\", img)\n",
    "cv.waitKey(0)\n",
    "cv.destroyAllWindows()"
   ]
  },
  {
   "cell_type": "code",
   "execution_count": 7,
   "metadata": {},
   "outputs": [],
   "source": [
    "import cv2 as cv\n",
    "import numpy as np\n",
    "\n",
    "\n",
    "\n",
    "img = cv.imread('./dis.jpg')\n",
    "gray = cv.cvtColor(img, cv.COLOR_BGR2GRAY)\n",
    "ret, thresh = cv.threshold(gray, 0, 255, cv.THRESH_BINARY + cv.THRESH_OTSU)\n",
    "\n",
    "\n",
    "# 이진화된 결과를 dist_transform 함수의 입력으로 사용합니다. \n",
    "dist_transform = cv.distanceTransform(thresh, cv.DIST_L2, 5)\n",
    "# dist_transform  함수를 사용하면 실수 타입(float32)의 이미지가 생성됩니다. 화면에 보여주려면 normalize 함수를 사용해야 합니다. \n",
    "result = cv.normalize(dist_transform, None, 255, 0, cv.NORM_MINMAX, cv.CV_8UC1)\n",
    "\n",
    "cv.imshow(\"dist_transform\", result)\n",
    "cv.imshow(\"src\", img)\n",
    "\n",
    "cv.waitKey(0)\n",
    "cv.destroyAllWindows()"
   ]
  }
 ],
 "metadata": {
  "kernelspec": {
   "display_name": "Python 3",
   "language": "python",
   "name": "python3"
  },
  "language_info": {
   "codemirror_mode": {
    "name": "ipython",
    "version": 3
   },
   "file_extension": ".py",
   "mimetype": "text/x-python",
   "name": "python",
   "nbconvert_exporter": "python",
   "pygments_lexer": "ipython3",
   "version": "3.7.6"
  }
 },
 "nbformat": 4,
 "nbformat_minor": 4
}
