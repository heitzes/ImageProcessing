{
 "cells": [
  {
   "cell_type": "code",
   "execution_count": 33,
   "metadata": {},
   "outputs": [],
   "source": [
    "import cv2\n",
    "import numpy as np\n",
    "import torch\n",
    "import torch.nn as nn"
   ]
  },
  {
   "cell_type": "markdown",
   "metadata": {},
   "source": [
    "### LPF"
   ]
  },
  {
   "cell_type": "code",
   "execution_count": 34,
   "metadata": {},
   "outputs": [],
   "source": [
    "img = cv2.imread(\"./rabbit.jpg\", cv2.IMREAD_GRAYSCALE)"
   ]
  },
  {
   "cell_type": "code",
   "execution_count": 35,
   "metadata": {},
   "outputs": [],
   "source": [
    "def make_filter(a,b):\n",
    "    n = a*b\n",
    "    filt = 1/n*np.ones(shape=(a,b))\n",
    "    return filt"
   ]
  },
  {
   "cell_type": "code",
   "execution_count": 36,
   "metadata": {},
   "outputs": [],
   "source": [
    "img1 = cv2.filter2D(img,-1,make_filter(3,3))\n",
    "img2 = cv2.filter2D(img,-1,make_filter(9,9))\n",
    "img3 = cv2.filter2D(img,-1,make_filter(25,25))"
   ]
  },
  {
   "cell_type": "markdown",
   "metadata": {},
   "source": [
    "Average filter의 크기가 클 수록 이미지의 화질이 저하되는 것을 확인 할 수 있다.\n",
    "> Averaging filter이므로 넓은 영역에대해 필터를 적용하므로 당연하다. 크기가 크면 곱해지는 값이 작아지니까"
   ]
  },
  {
   "cell_type": "code",
   "execution_count": 37,
   "metadata": {},
   "outputs": [],
   "source": [
    "cv2.imshow(\"rabbit\", img)\n",
    "cv2.imshow(\"rabbit1\", img1)\n",
    "cv2.imshow(\"rabbit2\", img2)\n",
    "cv2.imshow(\"rabbit3\", img3)\n",
    "cv2.waitKey(0)\n",
    "cv2.destroyAllWindows()"
   ]
  },
  {
   "cell_type": "markdown",
   "metadata": {},
   "source": [
    "### HPF"
   ]
  },
  {
   "cell_type": "markdown",
   "metadata": {},
   "source": [
    "Laplacian filter, Laplacian of Gaussian filter"
   ]
  },
  {
   "cell_type": "code",
   "execution_count": 38,
   "metadata": {},
   "outputs": [],
   "source": [
    "lap = cv2.Laplacian(img,cv2.CV_64F)\n",
    "blur = cv2.GaussianBlur(img, (3, 3), 0)\n",
    "log = cv2.Laplacian(blur,cv2.CV_64F)"
   ]
  },
  {
   "cell_type": "markdown",
   "metadata": {},
   "source": [
    "Laplacian of Gaussian에서 더 메인 경계선이 뚜렷하게 나타남을 확인할 수 있다.\n",
    "> blur한 이미지에 대해 hpf하므로 처음의 이미지를 hpf하는거보다 더 확실한 메인 경계선(토끼의 테두리 등등)을 얻을 수 있는듯.\n",
    "중요하지 않은 경계선은 blur했을때 무시되므로"
   ]
  },
  {
   "cell_type": "code",
   "execution_count": 41,
   "metadata": {},
   "outputs": [],
   "source": [
    "cv2.imshow(\"lap\", lap)\n",
    "cv2.imshow(\"log\", log)\n",
    "cv2.waitKey(0)\n",
    "cv2.destroyAllWindows()"
   ]
  },
  {
   "cell_type": "markdown",
   "metadata": {},
   "source": [
    "### Non-linear filters"
   ]
  },
  {
   "cell_type": "markdown",
   "metadata": {},
   "source": [
    "Gaussian filter\n",
    "> 필터 사이즈가 클수록, std가 클수록 흐려진다."
   ]
  },
  {
   "cell_type": "code",
   "execution_count": 42,
   "metadata": {},
   "outputs": [],
   "source": [
    "img1 = cv2.GaussianBlur(img, (5, 5), 0.5)\n",
    "img2 = cv2.GaussianBlur(img, (5, 5), 2)\n",
    "img3 = cv2.GaussianBlur(img, (11, 11), 1)\n",
    "img4 = cv2.GaussianBlur(img, (11, 11), 5)\n",
    "\n",
    "cv2.imshow(\"gaus1\", img1)\n",
    "cv2.imshow(\"gaus2\", img2)\n",
    "cv2.imshow(\"gaus3\", img3)\n",
    "cv2.imshow(\"gaus4\", img4)\n",
    "\n",
    "cv2.waitKey(0)\n",
    "cv2.destroyAllWindows()"
   ]
  },
  {
   "cell_type": "markdown",
   "metadata": {},
   "source": [
    "Minimum, Maximum filter\n",
    "> 두 필터에서 모두 sharpness가 줄어든다. Maximum에서는 사진이 밝아지고 Minimum에서는 사진이 어두워진다."
   ]
  },
  {
   "cell_type": "code",
   "execution_count": 43,
   "metadata": {},
   "outputs": [],
   "source": [
    "size = (3, 3)\n",
    "shape = cv2.MORPH_RECT\n",
    "kernel = cv2.getStructuringElement(shape,size)\n",
    "img1 = cv2.erode(img,kernel)\n",
    "img2 = cv2.dilate(img,kernel)"
   ]
  },
  {
   "cell_type": "code",
   "execution_count": 44,
   "metadata": {},
   "outputs": [],
   "source": [
    "cv2.imshow(\"original\", img)\n",
    "cv2.imshow(\"min\", img1)\n",
    "cv2.imshow(\"max\", img2)\n",
    "cv2.waitKey(0)\n",
    "cv2.destroyAllWindows()"
   ]
  },
  {
   "cell_type": "code",
   "execution_count": null,
   "metadata": {},
   "outputs": [],
   "source": []
  }
 ],
 "metadata": {
  "kernelspec": {
   "display_name": "Python 3",
   "language": "python",
   "name": "python3"
  },
  "language_info": {
   "codemirror_mode": {
    "name": "ipython",
    "version": 3
   },
   "file_extension": ".py",
   "mimetype": "text/x-python",
   "name": "python",
   "nbconvert_exporter": "python",
   "pygments_lexer": "ipython3",
   "version": "3.7.6"
  }
 },
 "nbformat": 4,
 "nbformat_minor": 4
}
