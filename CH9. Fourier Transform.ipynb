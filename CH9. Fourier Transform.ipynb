{
 "cells": [
  {
   "cell_type": "code",
   "execution_count": 1,
   "metadata": {},
   "outputs": [],
   "source": [
    "import cv2\n",
    "import numpy as np\n",
    "from scipy import signal"
   ]
  },
  {
   "cell_type": "markdown",
   "metadata": {},
   "source": [
    "### A single edge and its DFT"
   ]
  },
  {
   "cell_type": "code",
   "execution_count": 2,
   "metadata": {},
   "outputs": [],
   "source": [
    "a = np.array(np.zeros(shape=(256,256)))\n",
    "a[:,128:] = 1"
   ]
  },
  {
   "cell_type": "code",
   "execution_count": 3,
   "metadata": {},
   "outputs": [],
   "source": [
    "cv2.imshow(\"img\",np.double(a))\n",
    "cv2.waitKey(0)\n",
    "cv2.destroyAllWindows()"
   ]
  },
  {
   "cell_type": "code",
   "execution_count": 4,
   "metadata": {},
   "outputs": [],
   "source": [
    "af = np.fft.fftshift(np.fft.fft2(a))"
   ]
  },
  {
   "cell_type": "markdown",
   "metadata": {},
   "source": [
    "double형(값이 0과 1사이)로 만들어야 스펙트럼을 볼 수 있다...(?)"
   ]
  },
  {
   "cell_type": "code",
   "execution_count": 5,
   "metadata": {},
   "outputs": [],
   "source": [
    "af1 = np.log(1+abs(af))\n",
    "cv2.imshow(\"af1\",af1/af1[128][128])\n",
    "cv2.waitKey(0)\n",
    "cv2.destroyAllWindows()"
   ]
  },
  {
   "cell_type": "markdown",
   "metadata": {},
   "source": [
    "### A box and its DFT"
   ]
  },
  {
   "cell_type": "code",
   "execution_count": 6,
   "metadata": {},
   "outputs": [],
   "source": [
    "a = np.zeros(shape=(256,256))\n",
    "a[78:178, 78:178] = 1"
   ]
  },
  {
   "cell_type": "code",
   "execution_count": 7,
   "metadata": {},
   "outputs": [],
   "source": [
    "cv2.imshow(\"img\",np.double(a))\n",
    "cv2.waitKey(0)\n",
    "cv2.destroyAllWindows()"
   ]
  },
  {
   "cell_type": "code",
   "execution_count": 8,
   "metadata": {},
   "outputs": [],
   "source": [
    "af = np.fft.fftshift(np.fft.fft2(a))"
   ]
  },
  {
   "cell_type": "code",
   "execution_count": 9,
   "metadata": {},
   "outputs": [],
   "source": [
    "af1 = np.log(1+abs(af))\n",
    "cv2.imshow(\"af1\",af1/af1[128][128])\n",
    "cv2.waitKey(0)\n",
    "cv2.destroyAllWindows()"
   ]
  },
  {
   "cell_type": "markdown",
   "metadata": {},
   "source": [
    "### A rotated box and its DFT"
   ]
  },
  {
   "cell_type": "code",
   "execution_count": 10,
   "metadata": {},
   "outputs": [],
   "source": [
    "x = np.linspace(0, 256, 256)\n",
    "y = np.linspace(0, 256, 256)\n",
    "[xv, yv] = np.meshgrid(x, y)\n",
    "b = (xv+yv<329) & (xv+yv>182) & (xv-yv>-67) & (xv-yv<73)"
   ]
  },
  {
   "cell_type": "code",
   "execution_count": 11,
   "metadata": {},
   "outputs": [],
   "source": [
    "cv2.imshow(\"b\",np.double(b))\n",
    "cv2.waitKey(0)\n",
    "cv2.destroyAllWindows()"
   ]
  },
  {
   "cell_type": "code",
   "execution_count": 12,
   "metadata": {},
   "outputs": [],
   "source": [
    "bf = np.fft.fftshift(np.fft.fft2(b))"
   ]
  },
  {
   "cell_type": "code",
   "execution_count": 13,
   "metadata": {},
   "outputs": [],
   "source": [
    "bf1 = np.log(1+abs(bf))\n",
    "cv2.imshow(\"af1\",bf1/np.max(bf1))\n",
    "cv2.waitKey(0)\n",
    "cv2.destroyAllWindows()"
   ]
  },
  {
   "cell_type": "markdown",
   "metadata": {},
   "source": [
    "### A circle and its DFT"
   ]
  },
  {
   "cell_type": "code",
   "execution_count": 14,
   "metadata": {},
   "outputs": [],
   "source": [
    "x = np.linspace(-128, 127, 256)\n",
    "y = np.linspace(-128, 127, 256)\n",
    "[xv, yv] = np.meshgrid(x, y)\n",
    "z = np.sqrt(xv**2 + yv**2)\n",
    "c = z<30"
   ]
  },
  {
   "cell_type": "code",
   "execution_count": 15,
   "metadata": {},
   "outputs": [],
   "source": [
    "cv2.imshow(\"c\",np.double(c))\n",
    "cv2.waitKey(0)\n",
    "cv2.destroyAllWindows()"
   ]
  },
  {
   "cell_type": "code",
   "execution_count": 16,
   "metadata": {},
   "outputs": [],
   "source": [
    "cf = np.fft.fftshift(np.fft.fft2(c))"
   ]
  },
  {
   "cell_type": "code",
   "execution_count": 17,
   "metadata": {},
   "outputs": [],
   "source": [
    "cf1 = np.log(1+abs(cf))\n",
    "cv2.imshow(\"cf1\",cf1/np.max(cf1))\n",
    "cv2.waitKey(0)\n",
    "cv2.destroyAllWindows()"
   ]
  },
  {
   "cell_type": "markdown",
   "metadata": {},
   "source": [
    "## Ideal filtering"
   ]
  },
  {
   "cell_type": "code",
   "execution_count": 18,
   "metadata": {},
   "outputs": [],
   "source": [
    "cm = cv2.imread(\"./rabbit.jpg\", cv2.IMREAD_GRAYSCALE)\n",
    "cm = cv2.resize(cm, (256,256))\n",
    "img_cf = np.fft.fftshift(np.fft.fft2(cm))"
   ]
  },
  {
   "cell_type": "code",
   "execution_count": 19,
   "metadata": {},
   "outputs": [],
   "source": [
    "cf1 = np.log(1+abs(img_cf))\n",
    "cv2.imshow(\"cf1\",cf1/cf1[128][128])\n",
    "cv2.waitKey(0)\n",
    "cv2.destroyAllWindows()"
   ]
  },
  {
   "cell_type": "markdown",
   "metadata": {},
   "source": [
    "### LPF"
   ]
  },
  {
   "cell_type": "markdown",
   "metadata": {},
   "source": [
    "fftshift로 중앙에 low freq components가 몰려있다 -> 중앙에 가까운 값들은 유지하고 중앙에서 먼 값은 치워버리는 matrix를 곱하자\n",
    "\n",
    "이때, 그 matrix가 원 이다"
   ]
  },
  {
   "cell_type": "code",
   "execution_count": 20,
   "metadata": {},
   "outputs": [],
   "source": [
    "x = np.linspace(-128, 127, 256)\n",
    "y = np.linspace(-128, 127, 256)\n",
    "[xv, yv] = np.meshgrid(x, y)\n",
    "z = np.sqrt(xv**2 + yv**2)\n",
    "c = z<30"
   ]
  },
  {
   "cell_type": "code",
   "execution_count": 21,
   "metadata": {},
   "outputs": [],
   "source": [
    "cf = img_cf*c\n",
    "cf1 = np.log(1+abs(cf))"
   ]
  },
  {
   "cell_type": "markdown",
   "metadata": {},
   "source": [
    "원을 곱함으로서 중앙의 값들만 원모양으로 남았다"
   ]
  },
  {
   "cell_type": "code",
   "execution_count": 22,
   "metadata": {},
   "outputs": [],
   "source": [
    "cv2.imshow(\"cf1\",cf1/np.max(cf1))\n",
    "cv2.waitKey(0)\n",
    "cv2.destroyAllWindows()"
   ]
  },
  {
   "cell_type": "code",
   "execution_count": 23,
   "metadata": {},
   "outputs": [],
   "source": [
    "cfli = np.fft.ifft2(cf)\n",
    "cfli = np.abs(cfli)\n",
    "cv2.imshow(\"cfli\", cfli/np.max(cfli))\n",
    "cv2.waitKey(0)\n",
    "cv2.destroyAllWindows()"
   ]
  },
  {
   "cell_type": "markdown",
   "metadata": {},
   "source": [
    "### HPF"
   ]
  },
  {
   "cell_type": "markdown",
   "metadata": {},
   "source": [
    "LPF와 반대로 중앙의 값들을 없앤다"
   ]
  },
  {
   "cell_type": "code",
   "execution_count": 24,
   "metadata": {},
   "outputs": [],
   "source": [
    "x = np.linspace(-128, 127, 256)\n",
    "y = np.linspace(-128, 127, 256)\n",
    "[xv, yv] = np.meshgrid(x, y)\n",
    "z = np.sqrt(xv**2 + yv**2)\n",
    "c = z>15"
   ]
  },
  {
   "cell_type": "code",
   "execution_count": 25,
   "metadata": {},
   "outputs": [],
   "source": [
    "cfh = img_cf*c\n",
    "cfh1 = np.log(1+abs(cfh))"
   ]
  },
  {
   "cell_type": "code",
   "execution_count": 26,
   "metadata": {},
   "outputs": [],
   "source": [
    "cv2.imshow(\"cfh1\",cfh1/np.max(cfh1))\n",
    "cv2.waitKey(0)\n",
    "cv2.destroyAllWindows()"
   ]
  },
  {
   "cell_type": "code",
   "execution_count": 27,
   "metadata": {},
   "outputs": [],
   "source": [
    "cfhi = np.fft.ifft2(cfh)\n",
    "cfhi = np.abs(cfhi)"
   ]
  },
  {
   "cell_type": "code",
   "execution_count": 28,
   "metadata": {},
   "outputs": [],
   "source": [
    "cv2.imshow(\"cfhi\",cfhi/np.max(cfh1))\n",
    "cv2.waitKey(0)\n",
    "cv2.destroyAllWindows()"
   ]
  },
  {
   "cell_type": "markdown",
   "metadata": {},
   "source": [
    "## Butterworth filtering"
   ]
  },
  {
   "cell_type": "markdown",
   "metadata": {},
   "source": [
    "Ideal filter의 단점.. 경계가 미분가능하지 않기때문에 결과물에 원치않는 효과들이 생김(ringing 등등)\n",
    "\n",
    "\n",
    "매끄러운 cutoff를 통해 이를 개선하자"
   ]
  },
  {
   "cell_type": "markdown",
   "metadata": {},
   "source": [
    "### LPF"
   ]
  },
  {
   "cell_type": "code",
   "execution_count": 42,
   "metadata": {},
   "outputs": [],
   "source": [
    "x = np.linspace(-128, 127, 256)\n",
    "y = np.linspace(-128, 127, 256)\n",
    "[xv, yv] = np.meshgrid(x, y)\n",
    "#225로 하면 hpf가 너무 안나와서 cutoff 값 조정..\n",
    "c = 1/(1+(np.sqrt(2)-1)*((xv**2+yv**2)/100)**2)"
   ]
  },
  {
   "cell_type": "code",
   "execution_count": null,
   "metadata": {},
   "outputs": [],
   "source": []
  },
  {
   "cell_type": "markdown",
   "metadata": {},
   "source": [
    "Ideal LPF와 달리 원의 경계선이 명확하지 않음"
   ]
  },
  {
   "cell_type": "code",
   "execution_count": 43,
   "metadata": {},
   "outputs": [],
   "source": [
    "bl = img_cf*c\n",
    "bl1 = np.log(1+abs(bl))\n",
    "cv2.imshow(\"butterworth lpf\",bl1)\n",
    "cv2.waitKey(0)\n",
    "cv2.destroyAllWindows()"
   ]
  },
  {
   "cell_type": "code",
   "execution_count": 31,
   "metadata": {},
   "outputs": [],
   "source": [
    "bli = np.fft.ifft2(bl)\n",
    "bli = np.abs(bli)"
   ]
  },
  {
   "cell_type": "code",
   "execution_count": 32,
   "metadata": {},
   "outputs": [],
   "source": [
    "cv2.imshow(\"bli\",bli/np.max(bli))\n",
    "cv2.waitKey(0)\n",
    "cv2.destroyAllWindows()"
   ]
  },
  {
   "cell_type": "markdown",
   "metadata": {},
   "source": [
    "## HPF"
   ]
  },
  {
   "cell_type": "code",
   "execution_count": 33,
   "metadata": {},
   "outputs": [],
   "source": [
    "c = 1 - c"
   ]
  },
  {
   "cell_type": "code",
   "execution_count": 34,
   "metadata": {},
   "outputs": [],
   "source": [
    "bh = img_cf*c\n",
    "bh1 = np.log(1+abs(bh))\n",
    "cv2.imshow(\"butterworth lpf\",bh1)\n",
    "cv2.waitKey(0)\n",
    "cv2.destroyAllWindows()"
   ]
  },
  {
   "cell_type": "code",
   "execution_count": 35,
   "metadata": {},
   "outputs": [],
   "source": [
    "bhi = np.fft.ifft2(bh)\n",
    "bhi = np.abs(bhi)"
   ]
  },
  {
   "cell_type": "code",
   "execution_count": 36,
   "metadata": {},
   "outputs": [],
   "source": [
    "cv2.imshow(\"bli\",bhi/np.max(bhi))\n",
    "cv2.waitKey(0)\n",
    "cv2.destroyAllWindows()"
   ]
  },
  {
   "cell_type": "markdown",
   "metadata": {},
   "source": [
    "## Gaussian filter"
   ]
  },
  {
   "cell_type": "markdown",
   "metadata": {},
   "source": [
    "### LPF"
   ]
  },
  {
   "cell_type": "code",
   "execution_count": 70,
   "metadata": {},
   "outputs": [
    {
     "name": "stdout",
     "output_type": "stream",
     "text": [
      "(256, 256)\n",
      "(256, 256)\n",
      "(256, 256)\n"
     ]
    }
   ],
   "source": [
    "x = np.linspace(-128, 127, 256)\n",
    "y = np.linspace(-128, 127, 256)\n",
    "[xv, yv] = np.meshgrid(x, y)\n",
    "z = np.sqrt(xv**2 + yv**2)\n",
    "print(z.shape)\n",
    "print((z<30).shape)\n",
    "c = np.zeros(z.shape)\n",
    "for i in range(256):\n",
    "    for j in range(256):\n",
    "        if z[i,j]<30:\n",
    "            c[i,j] = z[i,j]/30\n",
    "        else:\n",
    "            c[i,j] = 0\n",
    "                \n",
    "#c = z[z<30]\n",
    "print(c.shape)"
   ]
  },
  {
   "cell_type": "code",
   "execution_count": 57,
   "metadata": {},
   "outputs": [
    {
     "name": "stdout",
     "output_type": "stream",
     "text": [
      "[29.83286778 29.61418579 29.42787794 ... 29.42787794 29.61418579\n",
      " 29.83286778]\n"
     ]
    }
   ],
   "source": [
    "print(c)"
   ]
  },
  {
   "cell_type": "code",
   "execution_count": 72,
   "metadata": {},
   "outputs": [],
   "source": [
    "c = np.log(1+abs(c))\n",
    "c = cv2.GaussianBlur(c,(3,3),cv2.BORDER_DEFAULT)\n",
    "cv2.imshow(\"gaussian blurred circle\",c)\n",
    "cv2.waitKey(0)\n",
    "cv2.destroyAllWindows()"
   ]
  },
  {
   "cell_type": "code",
   "execution_count": 73,
   "metadata": {},
   "outputs": [],
   "source": [
    "bl = img_cf*c\n",
    "bl1 = np.log(1+abs(bl))\n",
    "cv2.imshow(\"gaussian lpf\",bl1)\n",
    "cv2.waitKey(0)\n",
    "cv2.destroyAllWindows()"
   ]
  },
  {
   "cell_type": "code",
   "execution_count": 74,
   "metadata": {},
   "outputs": [],
   "source": [
    "bli = np.fft.ifft2(bl)\n",
    "bli = np.abs(bli)"
   ]
  },
  {
   "cell_type": "code",
   "execution_count": 75,
   "metadata": {},
   "outputs": [],
   "source": [
    "cv2.imshow(\"bli\",bli/np.max(bli))\n",
    "cv2.waitKey(0)\n",
    "cv2.destroyAllWindows()"
   ]
  },
  {
   "cell_type": "markdown",
   "metadata": {},
   "source": [
    "이게 맞는건지 모르겠다..."
   ]
  },
  {
   "cell_type": "markdown",
   "metadata": {},
   "source": [
    "### HPF"
   ]
  },
  {
   "cell_type": "code",
   "execution_count": 83,
   "metadata": {},
   "outputs": [],
   "source": [
    "c = 1-c"
   ]
  },
  {
   "cell_type": "code",
   "execution_count": 84,
   "metadata": {},
   "outputs": [],
   "source": [
    "bl = img_cf*c\n",
    "bl1 = np.log(1+abs(bl))\n",
    "cv2.imshow(\"gaussian lpf\",bl1)\n",
    "cv2.waitKey(0)\n",
    "cv2.destroyAllWindows()"
   ]
  },
  {
   "cell_type": "code",
   "execution_count": 85,
   "metadata": {},
   "outputs": [],
   "source": [
    "bli = np.fft.ifft2(bl)\n",
    "bli = np.abs(bli)"
   ]
  },
  {
   "cell_type": "code",
   "execution_count": 87,
   "metadata": {},
   "outputs": [],
   "source": [
    "cv2.imshow(\"bli\",bli/np.max(bli))\n",
    "cv2.waitKey(0)\n",
    "cv2.destroyAllWindows()"
   ]
  },
  {
   "cell_type": "markdown",
   "metadata": {},
   "source": [
    "뭔가 아닌거같은데"
   ]
  }
 ],
 "metadata": {
  "kernelspec": {
   "display_name": "Python 3",
   "language": "python",
   "name": "python3"
  },
  "language_info": {
   "codemirror_mode": {
    "name": "ipython",
    "version": 3
   },
   "file_extension": ".py",
   "mimetype": "text/x-python",
   "name": "python",
   "nbconvert_exporter": "python",
   "pygments_lexer": "ipython3",
   "version": "3.7.6"
  }
 },
 "nbformat": 4,
 "nbformat_minor": 4
}
