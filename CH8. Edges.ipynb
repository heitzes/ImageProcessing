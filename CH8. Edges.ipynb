{
 "cells": [
  {
   "cell_type": "code",
   "execution_count": 32,
   "metadata": {},
   "outputs": [],
   "source": [
    "import cv2\n",
    "import numpy as np\n",
    "from scipy import ndimage"
   ]
  },
  {
   "cell_type": "markdown",
   "metadata": {},
   "source": [
    "### Prewitt"
   ]
  },
  {
   "cell_type": "code",
   "execution_count": 33,
   "metadata": {},
   "outputs": [],
   "source": [
    "x_edge = np.array([[-1,0,1],[-1,0,1],[-1,0,1]])\n",
    "y_edge = np.array([[-1,-1,-1],[0,0,0],[1,1,1]])"
   ]
  },
  {
   "cell_type": "code",
   "execution_count": 34,
   "metadata": {},
   "outputs": [],
   "source": [
    "img = cv2.imread(\"./circuit.jpg\", cv2.IMREAD_GRAYSCALE)"
   ]
  },
  {
   "cell_type": "markdown",
   "metadata": {},
   "source": [
    "img1에선 x축에 수직인 값들만 살아남음"
   ]
  },
  {
   "cell_type": "code",
   "execution_count": 35,
   "metadata": {},
   "outputs": [],
   "source": [
    "img1 = cv2.filter2D(img, 3, x_edge)\n",
    "img2 = cv2.filter2D(img, 3, y_edge)\n",
    "cv2.imshow(\"original\", img)\n",
    "cv2.imshow(\"x edge\", np.uint8(img1/255))\n",
    "cv2.imshow(\"y edge\", np.uint8(img2/255))\n",
    "cv2.waitKey(0)\n",
    "cv2.destroyAllWindows()"
   ]
  },
  {
   "cell_type": "markdown",
   "metadata": {},
   "source": [
    "matlab에서는 prewitt라는 옵션을 설정하면 적절한 threshold를 기준으로 필터링 한다는데 cv2엔 그런게 없어서 직접 threshold를 설정해주었다"
   ]
  },
  {
   "cell_type": "code",
   "execution_count": 36,
   "metadata": {},
   "outputs": [
    {
     "name": "stderr",
     "output_type": "stream",
     "text": [
      "C:\\python\\lib\\site-packages\\ipykernel_launcher.py:1: RuntimeWarning: invalid value encountered in sqrt\n",
      "  \"\"\"Entry point for launching an IPython kernel.\n",
      "C:\\python\\lib\\site-packages\\ipykernel_launcher.py:2: RuntimeWarning: invalid value encountered in sqrt\n",
      "  \n",
      "C:\\python\\lib\\site-packages\\ipykernel_launcher.py:2: RuntimeWarning: invalid value encountered in greater\n",
      "  \n"
     ]
    }
   ],
   "source": [
    "p_edge = np.sqrt(img1**2+img2**2)\n",
    "b_edge = np.double(np.sqrt(img1**2+img2**2)/255 > 0.3)\n",
    "prewitt = np.double((img1 + img2)/255 > 0.3)\n",
    "cv2.imshow(\"sqrt\", p_edge/255)\n",
    "cv2.imshow(\"binary\", b_edge)\n",
    "cv2.imshow(\"prewitt\", (prewitt))\n",
    "cv2.waitKey(0)\n",
    "cv2.destroyAllWindows()"
   ]
  },
  {
   "cell_type": "markdown",
   "metadata": {},
   "source": [
    "### Robert"
   ]
  },
  {
   "cell_type": "code",
   "execution_count": 37,
   "metadata": {},
   "outputs": [],
   "source": [
    "rob_xedge = np.array([[1,0,0],[0,-1,0],[0,0,0]])\n",
    "rob_yedge = np.array([[0,1,0],[-1,0,0],[0,0,0]])"
   ]
  },
  {
   "cell_type": "code",
   "execution_count": 38,
   "metadata": {},
   "outputs": [],
   "source": [
    "img1 = cv2.filter2D(img, -1, rob_xedge)\n",
    "img2 = cv2.filter2D(img, -1, rob_yedge)"
   ]
  },
  {
   "cell_type": "code",
   "execution_count": 39,
   "metadata": {},
   "outputs": [],
   "source": [
    "rob = np.double(img1+img2>60)\n",
    "cv2.imshow(\"robx\", np.uint8(img1))\n",
    "cv2.imshow(\"roby\", np.uint8(img2))\n",
    "cv2.imshow(\"rob\", (rob))\n",
    "cv2.waitKey(0)\n",
    "cv2.destroyAllWindows()"
   ]
  },
  {
   "cell_type": "markdown",
   "metadata": {},
   "source": [
    "### Sobel\n",
    "> Sobel의 성능이 Robert보다 나은거같다; 실제로 책에서도 셋중 sobel이 제일 낫다 함"
   ]
  },
  {
   "cell_type": "code",
   "execution_count": 40,
   "metadata": {},
   "outputs": [],
   "source": [
    "sob_xedge = cv2.Sobel(img,cv2.CV_8U,1,0,-1)\n",
    "sob_yedge = cv2.Sobel(img,cv2.CV_8U,0,1,-1)\n",
    "img_sobel = np.double(sob_xedge + sob_yedge>60)\n",
    "cv2.imshow(\"Sobel X\", sob_xedge)\n",
    "cv2.imshow(\"Sobel Y\", sob_yedge)\n",
    "cv2.imshow(\"Sobel\", img_sobel)\n",
    "cv2.waitKey(0)\n",
    "cv2.destroyAllWindows()"
   ]
  },
  {
   "cell_type": "markdown",
   "metadata": {},
   "source": [
    "### Unsharp masking"
   ]
  },
  {
   "cell_type": "markdown",
   "metadata": {},
   "source": [
    "Average filter"
   ]
  },
  {
   "cell_type": "code",
   "execution_count": 41,
   "metadata": {},
   "outputs": [],
   "source": [
    "def make_filter(a,b):\n",
    "    n = a*b\n",
    "    filt = 1/n*np.ones(shape=(a,b))\n",
    "    return filt"
   ]
  },
  {
   "cell_type": "code",
   "execution_count": 42,
   "metadata": {},
   "outputs": [],
   "source": [
    "img = cv2.imread(\"./rabbit.jpg\", cv2.IMREAD_GRAYSCALE)\n",
    "f = cv2.filter2D(img,-1,make_filter(3,3))\n",
    "xu = np.double(img)-f/1.5"
   ]
  },
  {
   "cell_type": "markdown",
   "metadata": {},
   "source": [
    "사진이 더 거칠어졌다"
   ]
  },
  {
   "cell_type": "code",
   "execution_count": 43,
   "metadata": {},
   "outputs": [],
   "source": [
    "cv2.imshow(\"original\",img)\n",
    "cv2.imshow(\"sharper\", np.uint8(xu*2.5))\n",
    "cv2.waitKey(0)\n",
    "cv2.destroyAllWindows()"
   ]
  },
  {
   "cell_type": "markdown",
   "metadata": {},
   "source": [
    "Unsharp filter"
   ]
  },
  {
   "cell_type": "code",
   "execution_count": 44,
   "metadata": {},
   "outputs": [],
   "source": [
    "def unsharp(alpa):\n",
    "    filt = (1/(alpa+1))*np.array([[-alpa, alpa-1, -alpa], [alpa-1, alpa+5, alpa-1], [-alpa, alpa-1, -alpa]])\n",
    "    return filt"
   ]
  },
  {
   "cell_type": "markdown",
   "metadata": {},
   "source": [
    "경계선이 강조되면서 거칠어졌다"
   ]
  },
  {
   "cell_type": "code",
   "execution_count": 45,
   "metadata": {},
   "outputs": [],
   "source": [
    "un = cv2.filter2D(img,-1, unsharp(0.5))\n",
    "cv2.imshow(\"original\",img)\n",
    "cv2.imshow(\"sharper\", np.uint8(xu*2.5))\n",
    "cv2.waitKey(0)\n",
    "cv2.destroyAllWindows()"
   ]
  },
  {
   "cell_type": "markdown",
   "metadata": {},
   "source": [
    "High boost filter"
   ]
  },
  {
   "cell_type": "markdown",
   "metadata": {},
   "source": [
    "뭔가 사진에서 생기와 습도가 다 사라진 느낌..."
   ]
  },
  {
   "cell_type": "code",
   "execution_count": 46,
   "metadata": {},
   "outputs": [],
   "source": [
    "amp_factor= np.array([[-1,-1,-1],[-1,11,-1],[-1,-1,-1]])/9\n",
    "xf = cv2.filter2D(img, -1 ,amp_factor)\n",
    "cv2.imshow(\"original\",img)\n",
    "cv2.imshow(\"sharper\", np.uint8(xf*2.5))\n",
    "cv2.waitKey(0)\n",
    "cv2.destroyAllWindows()"
   ]
  },
  {
   "cell_type": "markdown",
   "metadata": {},
   "source": [
    "이 방법이 가장 자연스러운 방법인거같다. 특히 h1이...\n",
    "\n",
    "책에서도 그렇게 나옴"
   ]
  },
  {
   "cell_type": "code",
   "execution_count": 47,
   "metadata": {},
   "outputs": [],
   "source": [
    "h1 = np.array([[-0.2222,-0.2222,-0.2222],[-0.2222,2.7778,-0.2222],[-0.2222,-0.2222,-0.2222]])\n",
    "h2 = np.array([[-0.0278,-0.0278,-0.0278],[-0.0278,1.2222,-0.0278],[-0.0278,-0.0278,-0.0278]])\n",
    "img1 = cv2.filter2D(img, -1, h1)\n",
    "img2 = cv2.filter2D(img, -1, h2)\n",
    "cv2.imshow(\"original\",img)\n",
    "cv2.imshow(\"h1\",img1)\n",
    "cv2.imshow(\"h2\", img2)\n",
    "cv2.waitKey(0)\n",
    "cv2.destroyAllWindows()"
   ]
  },
  {
   "cell_type": "code",
   "execution_count": null,
   "metadata": {},
   "outputs": [],
   "source": []
  }
 ],
 "metadata": {
  "kernelspec": {
   "display_name": "Python 3",
   "language": "python",
   "name": "python3"
  },
  "language_info": {
   "codemirror_mode": {
    "name": "ipython",
    "version": 3
   },
   "file_extension": ".py",
   "mimetype": "text/x-python",
   "name": "python",
   "nbconvert_exporter": "python",
   "pygments_lexer": "ipython3",
   "version": "3.7.6"
  }
 },
 "nbformat": 4,
 "nbformat_minor": 4
}
