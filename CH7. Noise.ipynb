{
 "cells": [
  {
   "cell_type": "code",
   "execution_count": 158,
   "metadata": {},
   "outputs": [],
   "source": [
    "import cv2\n",
    "import numpy as np\n",
    "import scipy.signal as scipy"
   ]
  },
  {
   "cell_type": "markdown",
   "metadata": {},
   "source": [
    "### Noise\n",
    "> cv2에는 따로 noise를 추가하는 함수는 없는 것 같다."
   ]
  },
  {
   "cell_type": "markdown",
   "metadata": {},
   "source": [
    "Salt and pepper noise"
   ]
  },
  {
   "cell_type": "code",
   "execution_count": 159,
   "metadata": {},
   "outputs": [],
   "source": [
    "def salt(image, k):\n",
    "    row,col= image.shape\n",
    "    s_vs_p = 0.5\n",
    "    amount = k\n",
    "    out = np.copy(image)\n",
    "    # Salt mode\n",
    "    num_salt = np.ceil(amount * image.size * s_vs_p)\n",
    "    coords = [np.random.randint(0, i - 1, int(num_salt)) for i in image.shape]\n",
    "    out[coords] = 255\n",
    "\n",
    "    # Pepper mode\n",
    "    num_pepper = np.ceil(amount* image.size * (1. - s_vs_p))\n",
    "    coords = [np.random.randint(0, i - 1, int(num_pepper)) for i in image.shape]\n",
    "    out[coords] = 0\n",
    "    return out"
   ]
  },
  {
   "cell_type": "code",
   "execution_count": 160,
   "metadata": {},
   "outputs": [
    {
     "name": "stderr",
     "output_type": "stream",
     "text": [
      "C:\\python\\lib\\site-packages\\ipykernel_launcher.py:9: FutureWarning: Using a non-tuple sequence for multidimensional indexing is deprecated; use `arr[tuple(seq)]` instead of `arr[seq]`. In the future this will be interpreted as an array index, `arr[np.array(seq)]`, which will result either in an error or a different result.\n",
      "  if __name__ == '__main__':\n",
      "C:\\python\\lib\\site-packages\\ipykernel_launcher.py:14: FutureWarning: Using a non-tuple sequence for multidimensional indexing is deprecated; use `arr[tuple(seq)]` instead of `arr[seq]`. In the future this will be interpreted as an array index, `arr[np.array(seq)]`, which will result either in an error or a different result.\n",
      "  \n"
     ]
    }
   ],
   "source": [
    "img = cv2.imread(\"./rabbit.jpg\", cv2.IMREAD_GRAYSCALE)\n",
    "img1 = salt(img, 0.02)\n",
    "cv2.imshow(\"original\", img)\n",
    "cv2.imshow(\"salt and pepper\", img1)\n",
    "cv2.waitKey(0)\n",
    "cv2.destroyAllWindows()"
   ]
  },
  {
   "cell_type": "markdown",
   "metadata": {},
   "source": [
    "Gaussian noise\n",
    "> 잘 안된다... default로 var이 0.01이래서 0.01로 해봤는데 차이를 못느끼겠다."
   ]
  },
  {
   "cell_type": "code",
   "execution_count": 161,
   "metadata": {},
   "outputs": [],
   "source": [
    "def gauss(image,k): \n",
    "    row,col = image.shape\n",
    "    mean = 0\n",
    "    var = k\n",
    "    sigma = var**0.5\n",
    "    gauss = np.random.normal(mean, sigma,(row,col))\n",
    "    gauss = gauss.reshape(row,col)\n",
    "    noisy = image + gauss\n",
    "    return noisy"
   ]
  },
  {
   "cell_type": "code",
   "execution_count": 170,
   "metadata": {},
   "outputs": [],
   "source": [
    "img = cv2.imread(\"./rabbit.jpg\", cv2.IMREAD_GRAYSCALE)\n",
    "img1 = gauss(img, 1)\n",
    "cv2.imshow(\"original\", img)\n",
    "cv2.imshow(\"gaussian\", np.uint8(img1))\n",
    "cv2.waitKey(0)\n",
    "cv2.destroyAllWindows()"
   ]
  },
  {
   "cell_type": "code",
   "execution_count": 167,
   "metadata": {},
   "outputs": [
    {
     "data": {
      "text/plain": [
       "array([[ 75,  83,  77, ..., 154, 154, 154],\n",
       "       [ 77,  80,  74, ..., 152, 152, 152],\n",
       "       [ 83,  82,  77, ..., 147, 147, 147],\n",
       "       ...,\n",
       "       [194, 191, 201, ..., 205, 203, 199],\n",
       "       [194, 191, 201, ..., 205, 203, 199],\n",
       "       [194, 191, 201, ..., 205, 203, 199]], dtype=uint8)"
      ]
     },
     "execution_count": 167,
     "metadata": {},
     "output_type": "execute_result"
    }
   ],
   "source": [
    "img"
   ]
  },
  {
   "cell_type": "code",
   "execution_count": 168,
   "metadata": {},
   "outputs": [
    {
     "data": {
      "text/plain": [
       "array([[ 75.13972997,  83.2811962 ,  76.46207975, ..., 154.05321284,\n",
       "        153.90433545, 153.68982338],\n",
       "       [ 77.53344946,  79.48904076,  73.7089124 , ..., 152.05610393,\n",
       "        152.04068234, 151.70155441],\n",
       "       [ 83.10413999,  82.7158755 ,  77.19486193, ..., 147.32590206,\n",
       "        147.01750848, 146.78387801],\n",
       "       ...,\n",
       "       [194.74489879, 191.01671567, 201.30442156, ..., 205.11138162,\n",
       "        203.38326737, 198.665393  ],\n",
       "       [194.72932051, 190.66257193, 201.04935267, ..., 204.73132052,\n",
       "        202.5998012 , 199.02656092],\n",
       "       [193.85894608, 191.01102382, 200.57813229, ..., 204.66867079,\n",
       "        202.88721931, 198.76525636]])"
      ]
     },
     "execution_count": 168,
     "metadata": {},
     "output_type": "execute_result"
    }
   ],
   "source": [
    "img1"
   ]
  },
  {
   "cell_type": "markdown",
   "metadata": {},
   "source": [
    "Speckle noise"
   ]
  },
  {
   "cell_type": "code",
   "execution_count": 171,
   "metadata": {},
   "outputs": [],
   "source": [
    "def speckle(image, k):\n",
    "    row,col = image.shape\n",
    "    gauss = np.random.randn(row,col)\n",
    "    gauss = gauss.reshape(row,col)        \n",
    "    noisy = image + image * gauss\n",
    "    return noisy"
   ]
  },
  {
   "cell_type": "code",
   "execution_count": 172,
   "metadata": {},
   "outputs": [],
   "source": [
    "img = cv2.imread(\"./rabbit.jpg\", cv2.IMREAD_GRAYSCALE)\n",
    "img1 = speckle(img, 0.00004)\n",
    "cv2.imshow(\"original\", img)\n",
    "cv2.imshow(\"speckle\", np.uint8(img1))\n",
    "cv2.waitKey(0)\n",
    "cv2.destroyAllWindows()"
   ]
  },
  {
   "cell_type": "markdown",
   "metadata": {},
   "source": [
    "### Cleaning noise - salt and pepper"
   ]
  },
  {
   "cell_type": "markdown",
   "metadata": {},
   "source": [
    "LPF"
   ]
  },
  {
   "cell_type": "code",
   "execution_count": 173,
   "metadata": {},
   "outputs": [],
   "source": [
    "def make_filter(a,b):\n",
    "    n = a*b\n",
    "    filt = 1/n*np.ones(shape=(a,b))\n",
    "    return filt"
   ]
  },
  {
   "cell_type": "code",
   "execution_count": 174,
   "metadata": {},
   "outputs": [
    {
     "name": "stderr",
     "output_type": "stream",
     "text": [
      "C:\\python\\lib\\site-packages\\ipykernel_launcher.py:9: FutureWarning: Using a non-tuple sequence for multidimensional indexing is deprecated; use `arr[tuple(seq)]` instead of `arr[seq]`. In the future this will be interpreted as an array index, `arr[np.array(seq)]`, which will result either in an error or a different result.\n",
      "  if __name__ == '__main__':\n",
      "C:\\python\\lib\\site-packages\\ipykernel_launcher.py:14: FutureWarning: Using a non-tuple sequence for multidimensional indexing is deprecated; use `arr[tuple(seq)]` instead of `arr[seq]`. In the future this will be interpreted as an array index, `arr[np.array(seq)]`, which will result either in an error or a different result.\n",
      "  \n"
     ]
    }
   ],
   "source": [
    "img1 = salt(img, 0.02)\n",
    "img2 = cv2.filter2D(img,-1,make_filter(3,3))\n",
    "cv2.imshow(\"noise\", img1)\n",
    "cv2.imshow(\"remove\", img2)\n",
    "cv2.waitKey(0)\n",
    "cv2.destroyAllWindows()"
   ]
  },
  {
   "cell_type": "markdown",
   "metadata": {},
   "source": [
    "Median filter"
   ]
  },
  {
   "cell_type": "code",
   "execution_count": 175,
   "metadata": {},
   "outputs": [
    {
     "name": "stderr",
     "output_type": "stream",
     "text": [
      "C:\\python\\lib\\site-packages\\ipykernel_launcher.py:9: FutureWarning: Using a non-tuple sequence for multidimensional indexing is deprecated; use `arr[tuple(seq)]` instead of `arr[seq]`. In the future this will be interpreted as an array index, `arr[np.array(seq)]`, which will result either in an error or a different result.\n",
      "  if __name__ == '__main__':\n",
      "C:\\python\\lib\\site-packages\\ipykernel_launcher.py:14: FutureWarning: Using a non-tuple sequence for multidimensional indexing is deprecated; use `arr[tuple(seq)]` instead of `arr[seq]`. In the future this will be interpreted as an array index, `arr[np.array(seq)]`, which will result either in an error or a different result.\n",
      "  \n"
     ]
    }
   ],
   "source": [
    "img1 = salt(img, 0.2)\n",
    "img2 = cv2.medianBlur(img1, 3)\n",
    "img3 = cv2.medianBlur(img1, 5)\n",
    "cv2.imshow(\"noise\", img1)\n",
    "cv2.imshow(\"remove1\", img2)\n",
    "cv2.imshow(\"remove2\", img3)\n",
    "cv2.waitKey(0)\n",
    "cv2.destroyAllWindows()"
   ]
  },
  {
   "cell_type": "markdown",
   "metadata": {},
   "source": [
    "### Cleaning noise - gaussian"
   ]
  },
  {
   "cell_type": "markdown",
   "metadata": {},
   "source": [
    "Image averaging\n",
    "> 사진을 여러장 평균낼수록 화질개선효과가 증가할 것이다."
   ]
  },
  {
   "cell_type": "code",
   "execution_count": 176,
   "metadata": {},
   "outputs": [],
   "source": [
    "img = cv2.imread(\"./rabbit.jpg\", cv2.IMREAD_GRAYSCALE)\n",
    "img1 = gauss(img, 500)\n",
    "img2 = gauss(img, 500)\n",
    "img3 = gauss(img, 500)\n",
    "img4 = (img1+img2+img2)/3\n",
    "cv2.imshow(\"original\", img)\n",
    "cv2.imshow(\"gaussian1\", np.uint8(img1))\n",
    "cv2.imshow(\"gaussian2\", np.uint8(img2))\n",
    "cv2.imshow(\"gaussian3\", np.uint8(img3))\n",
    "cv2.imshow(\"gaussian4\", np.uint8(img4))\n",
    "cv2.waitKey(0)\n",
    "cv2.destroyAllWindows()"
   ]
  },
  {
   "cell_type": "markdown",
   "metadata": {},
   "source": [
    "Averaging filter"
   ]
  },
  {
   "cell_type": "code",
   "execution_count": 177,
   "metadata": {},
   "outputs": [],
   "source": [
    "img1 = gauss(img, 500)\n",
    "img2 = cv2.filter2D(img1,-1,make_filter(3,3))\n",
    "cv2.imshow(\"noise\", np.uint8(img1))\n",
    "cv2.imshow(\"remove\", np.uint8(img2))\n",
    "cv2.waitKey(0)\n",
    "cv2.destroyAllWindows()"
   ]
  },
  {
   "cell_type": "markdown",
   "metadata": {},
   "source": [
    "Wiener filtering\n",
    "> cv2에 없어서 scipy에서 가져왔다"
   ]
  },
  {
   "cell_type": "code",
   "execution_count": 178,
   "metadata": {},
   "outputs": [],
   "source": [
    "img1 = gauss(img,500)\n",
    "img2 = scipy.wiener(img1)\n",
    "cv2.imshow(\"noise\", np.uint8(img1))\n",
    "cv2.imshow(\"remove\", np.uint8(img2))\n",
    "cv2.waitKey(0)\n",
    "cv2.destroyAllWindows()"
   ]
  },
  {
   "cell_type": "code",
   "execution_count": null,
   "metadata": {},
   "outputs": [],
   "source": []
  }
 ],
 "metadata": {
  "kernelspec": {
   "display_name": "Python 3",
   "language": "python",
   "name": "python3"
  },
  "language_info": {
   "codemirror_mode": {
    "name": "ipython",
    "version": 3
   },
   "file_extension": ".py",
   "mimetype": "text/x-python",
   "name": "python",
   "nbconvert_exporter": "python",
   "pygments_lexer": "ipython3",
   "version": "3.7.6"
  }
 },
 "nbformat": 4,
 "nbformat_minor": 4
}
